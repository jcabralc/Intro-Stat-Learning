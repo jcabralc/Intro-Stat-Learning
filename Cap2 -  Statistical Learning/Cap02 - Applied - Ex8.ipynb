{
 "cells": [
  {
   "cell_type": "markdown",
   "metadata": {
    "hideCode": false,
    "hideOutput": false,
    "hidePrompt": false,
    "slideshow": {
     "slide_type": "subslide"
    }
   },
   "source": [
    "# Chapter 2  - Exercise 8 -  Applied"
   ]
  },
  {
   "cell_type": "markdown",
   "metadata": {},
   "source": [
    "Book An Introduction to Statistical Learning\n",
    "\n",
    "Pag. 54 ~ 55\n",
    "\n",
    "http://statlearning.com"
   ]
  },
  {
   "cell_type": "markdown",
   "metadata": {},
   "source": [
    "This exercise relates to the College data set, which can be found in the file College.csv. It contains a number of variables for 777 different universities and colleges in the US. The variables are\n",
    "\n",
    "* **Private** : Public/private indicator \n",
    "* **Apps** : Number of applications received\n",
    "* **Accept** : Number of applicants accepted\n",
    "* **Enroll** : Number of new students enrolled\n",
    "* **Top10perc** : New students from top 10% of high school class\n",
    "* **Top25perc** : New students from top 25% of high school class\n",
    "* **F.Undergrad** : Number of full-time undergraduates\n",
    "* **P.Undergrad** : Number of part-time undergraduates\n",
    "* **Outstate** : Out-of-state tuition\n",
    "* **Room.Board** : Room and board costs\n",
    "* **Books** : Estimated book costs\n",
    "* **Personal** : Estimated personal spending\n",
    "* **PhD** : Percent of faculty with Ph.D.’s\n",
    "* **Terminal** : Percent of faculty with terminal degree\n",
    "* **S.F.Ratio** : Student/faculty ratio\n",
    "* **perc.alumni** : Percent of alumni who donate\n",
    "* **Expend** : Instructional expenditure per student\n",
    "* **Grad.Rate** : Graduation rate"
   ]
  },
  {
   "cell_type": "markdown",
   "metadata": {},
   "source": [
    "### Imports"
   ]
  },
  {
   "cell_type": "code",
   "execution_count": null,
   "metadata": {
    "collapsed": true
   },
   "outputs": [],
   "source": [
    "import pandas as pd\n",
    "import seaborn as sns\n",
    "from scipy.stats import kendalltau\n",
    "import matplotlib.pyplot as plt\n",
    "%matplotlib inline"
   ]
  },
  {
   "cell_type": "markdown",
   "metadata": {},
   "source": [
    "###  8. (a)"
   ]
  },
  {
   "cell_type": "code",
   "execution_count": null,
   "metadata": {},
   "outputs": [],
   "source": [
    "college = pd.read_csv('College.csv')\n",
    "\n",
    "college.head(5)"
   ]
  },
  {
   "cell_type": "code",
   "execution_count": null,
   "metadata": {},
   "outputs": [],
   "source": [
    "college.shape"
   ]
  },
  {
   "cell_type": "markdown",
   "metadata": {},
   "source": [
    "###  8. (b)"
   ]
  },
  {
   "cell_type": "code",
   "execution_count": null,
   "metadata": {
    "collapsed": true
   },
   "outputs": [],
   "source": [
    "college.set_index('Unnamed: 0', inplace=True)"
   ]
  },
  {
   "cell_type": "markdown",
   "metadata": {},
   "source": [
    "###  8. (c)"
   ]
  },
  {
   "cell_type": "code",
   "execution_count": null,
   "metadata": {},
   "outputs": [],
   "source": [
    "# i\n",
    "college.describe()"
   ]
  },
  {
   "cell_type": "code",
   "execution_count": null,
   "metadata": {},
   "outputs": [],
   "source": [
    "# ii\n",
    "sns.pairplot(college.iloc[:,0:10]);"
   ]
  },
  {
   "cell_type": "code",
   "execution_count": null,
   "metadata": {},
   "outputs": [],
   "source": [
    "# iii\n",
    "\n",
    "sns.boxplot(x='Outstate', y='Private', data=college);"
   ]
  },
  {
   "cell_type": "code",
   "execution_count": null,
   "metadata": {
    "collapsed": true,
    "scrolled": false
   },
   "outputs": [],
   "source": [
    "# iv\n",
    "\n",
    "college['Elite'] = 'No'\n",
    "\n",
    "college.loc[college.Top10perc > 50, 'Elite'] = \"Yes\"\n",
    "\n",
    "college[\"Elite\"] = college[\"Elite\"].astype('category')"
   ]
  },
  {
   "cell_type": "code",
   "execution_count": null,
   "metadata": {},
   "outputs": [],
   "source": [
    "college.groupby('Elite').agg('count')"
   ]
  },
  {
   "cell_type": "code",
   "execution_count": null,
   "metadata": {},
   "outputs": [],
   "source": [
    "sns.boxplot(x='Outstate', y='Elite', data=college);"
   ]
  },
  {
   "cell_type": "code",
   "execution_count": null,
   "metadata": {},
   "outputs": [],
   "source": [
    "# v\n",
    "\n",
    "plt.figure(figsize=(15,5))\n",
    "\n",
    "plt.subplot(221)\n",
    "ax1 = sns.distplot(college.Books )\n",
    "ax1.set_title('Histogram Books')\n",
    "\n",
    "plt.subplot(222)\n",
    "ax2 = sns.distplot(college.Enroll)\n",
    "ax2.set_title('Histogram Enroll')\n",
    "\n",
    "plt.subplot(223)\n",
    "ax3 = sns.distplot(college.PhD)\n",
    "ax3.set_title('Histogram PhD')\n",
    "\n",
    "plt.subplot(224)\n",
    "ax4 = sns.distplot(college.Expend, bins=100)\n",
    "ax4.set_title('Histogram Expend')\n",
    "\n",
    "plt.tight_layout()\n",
    "\n",
    "plt.show()"
   ]
  },
  {
   "cell_type": "code",
   "execution_count": null,
   "metadata": {},
   "outputs": [],
   "source": [
    "# vi\n",
    "\n",
    "pp = sns.pairplot(data=college, y_vars=['Personal'],x_vars=['P.Undergrad', 'F.Undergrad'], hue='Private', size = 5);\n",
    "\n",
    "\n",
    "plt.tight_layout()"
   ]
  },
  {
   "cell_type": "markdown",
   "metadata": {},
   "source": [
    "Full-time non-Private students spend more than part-time students\n",
    "\n",
    "Students from private colleges, independent of the type of degree, tend to maintain the same spending range"
   ]
  },
  {
   "cell_type": "code",
   "execution_count": null,
   "metadata": {},
   "outputs": [],
   "source": [
    "sns.pairplot(data=college, y_vars='Grad.Rate', x_vars='Outstate', hue='Private', size=5);"
   ]
  },
  {
   "cell_type": "markdown",
   "metadata": {},
   "source": [
    "High tuition correlates to high graduation rate"
   ]
  },
  {
   "cell_type": "code",
   "execution_count": null,
   "metadata": {},
   "outputs": [],
   "source": [
    "fig = plt.figure(figsize=(10,3))\n",
    "\n",
    "top10 = college['PhD'].groupby([college.index, college.Private, college.Outstate]).agg('sum').reset_index().sort_values('PhD', ascending=False)\n",
    "\n",
    "ax = sns.barplot(x='Unnamed: 0', y=top10.PhD, hue=top10.Private, data=top10[:10])\n",
    "axes = plt.gca()\n",
    "x = plt.gca().axes.get_xlim()\n",
    "axes.set_ylim([0,150])\n",
    "plt.xlabel('Colleges')\n",
    "plt.ylabel('Percent of faculty with Ph.D.’s')\n",
    "fig.autofmt_xdate()\n"
   ]
  },
  {
   "cell_type": "markdown",
   "metadata": {},
   "source": [
    "80% of colleges with more PhD are private"
   ]
  },
  {
   "cell_type": "markdown",
   "metadata": {},
   "source": [
    "# End Exercise 8"
   ]
  }
 ],
 "metadata": {
  "hide_code_all_hidden": false,
  "kernelspec": {
   "display_name": "Python 3",
   "language": "python",
   "name": "python3"
  },
  "language_info": {
   "codemirror_mode": {
    "name": "ipython",
    "version": 3
   },
   "file_extension": ".py",
   "mimetype": "text/x-python",
   "name": "python",
   "nbconvert_exporter": "python",
   "pygments_lexer": "ipython3",
   "version": "3.6.3"
  }
 },
 "nbformat": 4,
 "nbformat_minor": 2
}
